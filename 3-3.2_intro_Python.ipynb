{
 "cells": [
  {
   "cell_type": "markdown",
   "metadata": {},
   "source": [
    "# Section 3.2: Files\n",
    "* os.remove, os.unlink\n",
    "* os.path.exists, os.path.isdir, os.path.isfile\n",
    "* `with`\n",
    "\n",
    "### Students will be able to:\n",
    "* Delete files\n",
    "* Check that a file exists\n",
    "* Check if a path is a file or directory\n",
    "* Handle file exceptions\n",
    "* Use `with` statement close an open file after catching an exception"
   ]
  },
  {
   "cell_type": "markdown",
   "metadata": {},
   "source": [
    "---\n",
    "<font size=\"6\" color=\"#00A0B2\"  face=\"verdana\"> <B>Concepts</B></font>  \n",
    "\n",
    "## Deleting Files\n",
    "\n",
    "[![view video](https://iajupyterprodblobs.blob.core.windows.net/imagecontainer/common/play_video.png)](https://www.youtube.com/watch?v=qSYMdOq_96g)\n",
    "\n",
    "In module 1 you explored the `os` module and used some of its methods to interact with the file system. You changed the working directory, listed the content of a path, created new directories, removed directories, and renamed files and directories. In addition to these utilities, Python's `os` module allows you to remove specific files using the `os.remove(path)` or `os.unlink(path)` functions. Both functions are semantically identical; however, their functionality slightly differs depending on the platform running your program. For now, we will consider them equivalent and use `os.remove(path)` to delete a file."
   ]
  },
  {
   "cell_type": "markdown",
   "metadata": {},
   "source": [
    "---\n",
    "<font size=\"6\" color=\"#00A0B2\"  face=\"verdana\"> <B>Examples</B></font>\n",
    "\n",
    "### Removing a file"
   ]
  },
  {
   "cell_type": "code",
   "execution_count": 1,
   "metadata": {},
   "outputs": [
    {
     "name": "stdout",
     "output_type": "stream",
     "text": [
      "Content of \"parent_dir\" after creating the file:\n",
      "['text_file.txt', 'tmp_file_to_be_deleted.txt']\n",
      "\n",
      "Content of \"parent_dir\" after removing the file\n",
      "['text_file.txt']\n"
     ]
    }
   ],
   "source": [
    "import os\n",
    "\n",
    "# Create a file to be deleted\n",
    "file_path = \"parent_dir/tmp_file_to_be_deleted.txt\"\n",
    "f = open(file_path, 'w')\n",
    "f.close()\n",
    "\n",
    "# list the content of parent_dir\n",
    "print('Content of \"parent_dir\" after creating the file:')\n",
    "print(os.listdir(\"parent_dir\"))\n",
    "print()\n",
    "\n",
    "# delete the file\n",
    "os.remove(file_path)\n",
    "\n",
    "# list the content of parent_dir\n",
    "print('Content of \"parent_dir\" after removing the file')\n",
    "print(os.listdir(\"parent_dir\"))\n"
   ]
  },
  {
   "cell_type": "markdown",
   "metadata": {},
   "source": [
    "---\n",
    "<font size=\"6\" color=\"#B24C00\"  face=\"verdana\"> <B>Task 1</B></font>"
   ]
  },
  {
   "cell_type": "markdown",
   "metadata": {},
   "source": [
    "## Setting Up the Environment (no coding required)\n",
    "This code segment creates a directory named `files_exercises` that contains five subdirectories named `dir_1`, `dir_2`, ...`dir_5` and 100 text files named sequentially from 0 to 99. The first line of each text file is a random number from 1000 to 9999."
   ]
  },
  {
   "cell_type": "code",
   "execution_count": 36,
   "metadata": {},
   "outputs": [
    {
     "name": "stdout",
     "output_type": "stream",
     "text": [
      "Changing working dir to parent_dir\n",
      "Current working directory: C:\\Users\\dubey\\Downloads\\parent_dir\n",
      "Removing \"files_exercises\"\n",
      "Making \"files_exercises\"\n",
      "Changing working directory to \"files_exercises\"\n",
      "Current working directory: C:\\Users\\dubey\\Downloads\\parent_dir\\files_exercises\n",
      "Creating 100 text files\n",
      "Creating 5 directories\n",
      "Environment setup completed!\n"
     ]
    }
   ],
   "source": [
    "# Do not modify or add anything to this code segment.\n",
    "# This code segment must be run before attempting any of the tasks in this lesson.\n",
    "# It prepares the directories and files necessary to complete the tasks.\n",
    "\n",
    "import os, random, shutil\n",
    "\n",
    "# Navigate to `parent_dir` directory (if not already in it)\n",
    "current_path = os.getcwd()\n",
    "if (\"parent_dir\" in current_path):\n",
    "    nb_path = current_path.split(\"parent_dir\")[0]\n",
    "else:\n",
    "    nb_path = current_path\n",
    "print(\"Changing working dir to parent_dir\")\n",
    "os.chdir(os.path.join(nb_path,'parent_dir'))\n",
    "print(\"Current working directory:\", os.getcwd())\n",
    "\n",
    "# Remove the `files_exercises` directory (if it exists)\n",
    "if('files_exercises' in os.listdir()):\n",
    "    print('Removing \"files_exercises\"')\n",
    "    shutil.rmtree('files_exercises')\n",
    "    \n",
    "# Create a new directory called `files_exercises`\n",
    "print('Making \"files_exercises\"')\n",
    "os.mkdir('files_exercises')\n",
    "\n",
    "# Change the working directory to `files_exercises`\n",
    "print('Changing working directory to \"files_exercises\"')\n",
    "os.chdir('files_exercises')\n",
    "\n",
    "# Display the current working directory to verify you are in the correct location\n",
    "print(\"Current working directory:\", os.getcwd())\n",
    "\n",
    "# Create 100 text files, the first line of each file is a random number in the range [1000, 9999]\n",
    "print(\"Creating 100 text files\")\n",
    "random.seed(25000) # to get the same random numbers every time the setup runs\n",
    "for i in range(100):\n",
    "    file_name = str(i) + \".txt\"\n",
    "    f = open(file_name, 'w')\n",
    "    f.write(str(random.randint(1000, 9999)))\n",
    "    f.close()\n",
    "\n",
    "# Create 5 directories\n",
    "print(\"Creating 5 directories\")\n",
    "for i in range(1, 6):\n",
    "    os.mkdir(\"dir_\"+str(i))\n",
    "\n",
    "print(\"Environment setup completed!\")"
   ]
  },
  {
   "cell_type": "markdown",
   "metadata": {},
   "source": [
    "## Deleting Files"
   ]
  },
  {
   "cell_type": "code",
   "execution_count": 15,
   "metadata": {},
   "outputs": [
    {
     "name": "stdout",
     "output_type": "stream",
     "text": [
      "Content of \"files_exercises\" before removing the files\n",
      "['0.txt', '1.txt', '10.txt', '11.txt', '12.txt', '13.txt', '14.txt', '15.txt', '16.txt', '17.txt', '18.txt', '19.txt', '2.txt', '20.txt', '21.txt', '22.txt', '23.txt', '24.txt', '25.txt', '26.txt', '27.txt', '28.txt', '29.txt', '3.txt', '30.txt', '31.txt', '32.txt', '33.txt', '34.txt', '35.txt', '36.txt', '37.txt', '38.txt', '39.txt', '4.txt', '40.txt', '41.txt', '42.txt', '43.txt', '44.txt', '45.txt', '46.txt', '47.txt', '48.txt', '49.txt', '5.txt', '50.txt', '51.txt', '52.txt', '53.txt', '54.txt', '55.txt', '56.txt', '57.txt', '58.txt', '59.txt', '6.txt', '60.txt', '61.txt', '62.txt', '63.txt', '64.txt', '65.txt', '66.txt', '67.txt', '68.txt', '69.txt', '7.txt', '70.txt', '71.txt', '72.txt', '73.txt', '74.txt', '75.txt', '76.txt', '77.txt', '78.txt', '79.txt', '8.txt', '80.txt', '81.txt', '82.txt', '83.txt', '84.txt', '85.txt', '86.txt', '87.txt', '88.txt', '89.txt', '9.txt', '90.txt', '91.txt', '92.txt', '93.txt', '94.txt', '95.txt', '96.txt', '97.txt', '98.txt', '99.txt', 'dir_1', 'dir_2', 'dir_3', 'dir_4', 'dir_5']\n",
      "Content of \"files_exercises\" after removing the files\n",
      "['10.txt', '11.txt', '12.txt', '13.txt', '14.txt', '15.txt', '16.txt', '17.txt', '18.txt', '19.txt', '20.txt', '21.txt', '22.txt', '23.txt', '24.txt', '25.txt', '26.txt', '27.txt', '28.txt', '29.txt', '30.txt', '31.txt', '32.txt', '33.txt', '34.txt', '35.txt', '36.txt', '37.txt', '38.txt', '39.txt', '40.txt', '41.txt', '42.txt', '43.txt', '44.txt', '45.txt', '46.txt', '47.txt', '48.txt', '49.txt', '50.txt', '51.txt', '52.txt', '53.txt', '54.txt', '55.txt', '56.txt', '57.txt', '58.txt', '59.txt', '60.txt', '61.txt', '62.txt', '63.txt', '64.txt', '65.txt', '66.txt', '67.txt', '68.txt', '69.txt', '70.txt', '71.txt', '72.txt', '73.txt', '74.txt', '75.txt', '76.txt', '77.txt', '78.txt', '79.txt', '80.txt', '81.txt', '82.txt', '83.txt', '84.txt', '85.txt', '86.txt', '87.txt', '88.txt', '89.txt', '90.txt', '91.txt', '92.txt', '93.txt', '94.txt', '95.txt', '96.txt', '97.txt', '98.txt', '99.txt', 'dir_1', 'dir_2', 'dir_3', 'dir_4', 'dir_5']\n"
     ]
    }
   ],
   "source": [
    "# [ ] Complete the following program to delete the first 10 files inside `files_exercises` (0.txt, 1.txt ... 9.txt)\n",
    "# Make sure the to run the environment setup code before running your own program.\n",
    "\n",
    "import os\n",
    "\n",
    "if ('files_exercises' not in os.getcwd()):\n",
    "    print(\"STOP!!!! Run the environment setup code!\")\n",
    "\n",
    "# list the content of `files_exercises`\n",
    "print('Content of \"files_exercises\" before removing the files')\n",
    "print(os.listdir()) \n",
    "\n",
    "#TODO: delete the first 10 files\n",
    "for i in range(10):\n",
    "    filename = str(i) +'.txt'\n",
    "    os.remove(filename)\n",
    "# list the content of `files_exercises`\n",
    "print('Content of \"files_exercises\" after removing the files')\n",
    "print(os.listdir()) \n"
   ]
  },
  {
   "cell_type": "markdown",
   "metadata": {},
   "source": [
    "---\n",
    "<font size=\"6\" color=\"#00A0B2\"  face=\"verdana\"> <B>Concepts</B></font>  \n",
    "\n",
    "\n",
    "## Checking File Existence\n",
    "\n",
    "\n",
    "[![view video](https://iajupyterprodblobs.blob.core.windows.net/imagecontainer/common/play_video.png)](https://www.youtube.com/watch?v=PbXCwHKlgCk)\n",
    "\n",
    "In the previous section, you deleted a file assuming that it exists and assuming it is actually a file. In reality, these assumptions are not always true and you should consider them when writing programs that deal with files.\n",
    "\n",
    "#### Removing a file that doesn't exist\n",
    "Raises a `FileNotFoundError` exception. \n",
    "\n",
    "```python\n",
    "# Removing a file that does not exist\n",
    "file_path = \"parent_dir/fictitious_file.txt\"\n",
    "os.remove(file_path)\n",
    "\n",
    "-------------------------------------------------------------------------\n",
    "FileNotFoundError                       Traceback (most recent call last)\n",
    "<ipython-input-8-9e62af9a8388> in <module>()\n",
    "      1 # Removing a file that does not exist\n",
    "      2 file_path = \"parent_dir/fictitious_file.txt\"\n",
    "----> 3 os.remove(file_path)\n",
    "\n",
    "FileNotFoundError: [Errno 2] No such file or directory: 'parent_dir/fictitious_file.txt'\n",
    "```\n",
    "\n",
    "#### Removing a directory using `os.remove`\n",
    "When a directory is passed as an argument for `os.remove` a `PermissionError` is raised.\n",
    "\n",
    "```python\n",
    "# Passing a directory path to os.remove\n",
    "dir_path = \"parent_dir\"\n",
    "os.remove(dir_path)\n",
    "\n",
    "-------------------------------------------------------------------------\n",
    "PermissionError                         Traceback (most recent call last)\n",
    "<ipython-input-9-698c1518adf7> in <module>()\n",
    "      1 # Passing a directory path to os.remove\n",
    "      2 dir_path = \"parent_dir\"\n",
    "----> 3 os.remove(dir_path)\n",
    "\n",
    "PermissionError: [Errno 1] Operation not permitted: 'parent_dir'\n",
    "```\n",
    "\n",
    "### Simple solution\n",
    "In module 1 you were able to check if a path exists using `os.path.exists(path)`; in addition, you were able to figure out if a `path` is a file or directory using `os.path.isfile` and `os.path.isdir` respectively. You can use these functions to test a path and avoid the exceptions above."
   ]
  },
  {
   "cell_type": "markdown",
   "metadata": {},
   "source": [
    "---\n",
    "<font size=\"6\" color=\"#00A0B2\"  face=\"verdana\"> <B>Examples</B></font>\n"
   ]
  },
  {
   "cell_type": "code",
   "execution_count": 16,
   "metadata": {},
   "outputs": [
    {
     "name": "stdout",
     "output_type": "stream",
     "text": [
      "path does not exist\n"
     ]
    }
   ],
   "source": [
    "import os.path\n",
    "\n",
    "file_path = \"parent_dir/fictitious_file.txt\"\n",
    "\n",
    "# Removing a file\n",
    "\n",
    "# Check if the path exists\n",
    "if (os.path.exists(file_path)):\n",
    "    if (os.path.isfile(file_path)):\n",
    "        os.remove(file_path)\n",
    "    else:\n",
    "        print(\"Cannot remove a directory\")\n",
    "else:\n",
    "    print(\"path does not exist\")"
   ]
  },
  {
   "cell_type": "code",
   "execution_count": 17,
   "metadata": {},
   "outputs": [
    {
     "name": "stdout",
     "output_type": "stream",
     "text": [
      "path does not exist\n"
     ]
    }
   ],
   "source": [
    "import os.path\n",
    "\n",
    "file_path = \"parent_dir\"\n",
    "\n",
    "# Removing a file\n",
    "\n",
    "# Check if the path exists\n",
    "if (os.path.exists(file_path)):\n",
    "    if (os.path.isfile(file_path)):\n",
    "        os.remove(file_path)\n",
    "    else:\n",
    "        print(\"Cannot remove a directory\")\n",
    "else:\n",
    "    print(\"path does not exist\")"
   ]
  },
  {
   "cell_type": "markdown",
   "metadata": {},
   "source": [
    "---\n",
    "<font size=\"6\" color=\"#B24C00\"  face=\"verdana\"> <B>Task 2</B></font>\n",
    "\n",
    "## Checking File Existence\n"
   ]
  },
  {
   "cell_type": "code",
   "execution_count": 20,
   "metadata": {},
   "outputs": [
    {
     "name": "stdout",
     "output_type": "stream",
     "text": [
      "['11.txt', '13.txt', '15.txt', '17.txt', '19.txt', '21.txt', '23.txt', '25.txt', '27.txt', '29.txt', '31.txt', '33.txt', '35.txt', '37.txt', '39.txt', '41.txt', '43.txt', '45.txt', '47.txt', '49.txt', '51.txt', '53.txt', '55.txt', '57.txt', '59.txt', '61.txt', '63.txt', '65.txt', '67.txt', '69.txt', '71.txt', '73.txt', '75.txt', '77.txt', '79.txt', '81.txt', '83.txt', '85.txt', '87.txt', '89.txt', '91.txt', '93.txt', '95.txt', '97.txt', '99.txt', 'dir_1', 'dir_2', 'dir_3', 'dir_4', 'dir_5']\n"
     ]
    }
   ],
   "source": [
    "# [ ] Write a program to delete all the even numbered files inside `files_exercises`\n",
    "# Make sure the to run the environment setup code before running your own program.\n",
    "\n",
    "import os\n",
    "\n",
    "if ('files_exercises' not in os.getcwd()):\n",
    "    print(\"STOP!!!! Run the environment setup code!\")\n",
    "\n",
    "for i in range(100):\n",
    "    if (i % 2 == 0):\n",
    "        filename = str(i) + '.txt'\n",
    "        if (os.path.exists(filename)):\n",
    "            os.remove(filename)\n",
    "            \n",
    "print(os.listdir())"
   ]
  },
  {
   "cell_type": "code",
   "execution_count": 21,
   "metadata": {},
   "outputs": [
    {
     "name": "stdout",
     "output_type": "stream",
     "text": [
      "['11.txt', '13.txt', '15.txt', '17.txt', '19.txt', '21.txt', '23.txt', '25.txt', '27.txt', '29.txt', '31.txt', '33.txt', '35.txt', '37.txt', '39.txt', '41.txt', '43.txt', '45.txt', '47.txt', '49.txt', '51.txt', '53.txt', '55.txt', '57.txt', '59.txt', '61.txt', '63.txt', '65.txt', '67.txt', '69.txt', '71.txt', '73.txt', '75.txt', '77.txt', '79.txt', '81.txt', '83.txt', '85.txt', '87.txt', '89.txt', '91.txt', '93.txt', '95.txt', '97.txt', '99.txt']\n"
     ]
    }
   ],
   "source": [
    "# [ ] Write a program to delete all the directories inside `files_exercises`\n",
    "# Make sure the to run the environment setup code before running your own program.\n",
    "\n",
    "import os\n",
    "\n",
    "if ('files_exercises' not in os.getcwd()):\n",
    "    print(\"STOP!!!! Run the environment setup code!\")\n",
    "\n",
    "for i in range(5):\n",
    "    dirname = 'dir_' + str(i+1)\n",
    "    if (os.path.exists(dirname)):\n",
    "        if (os.path.isdir(dirname)):\n",
    "            os.rmdir(dirname)\n",
    "\n",
    "print(os.listdir())"
   ]
  },
  {
   "cell_type": "code",
   "execution_count": 24,
   "metadata": {},
   "outputs": [
    {
     "name": "stdout",
     "output_type": "stream",
     "text": [
      "Enter a file number: 10\n",
      "File doesn't exist!\n",
      "current files/directories are: \n",
      " ['11.txt', '15.txt', '17.txt', '19.txt', '21.txt', '23.txt', '25.txt', '27.txt', '29.txt', '31.txt', '33.txt', '35.txt', '37.txt', '39.txt', '41.txt', '43.txt', '45.txt', '47.txt', '49.txt', '51.txt', '53.txt', '55.txt', '57.txt', '59.txt', '61.txt', '63.txt', '65.txt', '67.txt', '69.txt', '71.txt', '73.txt', '75.txt', '77.txt', '79.txt', '81.txt', '83.txt', '85.txt', '87.txt', '89.txt', '91.txt', '93.txt', '95.txt', '97.txt', '99.txt']\n"
     ]
    }
   ],
   "source": [
    "# [ ] Write a program to ask the user for a file number, \n",
    "# then delete the file if it exists or display an appropriate error message if it does not.\n",
    "# Make sure the to run the environment setup code before running your own program.\n",
    "\n",
    "# Test your program with the following:\n",
    "# case 1: user inputs 84, 84.txt should be deleted\n",
    "# case 2: user inputs 84 (again), a File does not exist message is printed\n",
    "# case 3: user inputs 5, 5.txt should be deleted\n",
    "\n",
    "import os\n",
    "\n",
    "if ('files_exercises' not in os.getcwd()):\n",
    "    print(\"STOP!!!! Run the environment setup code!\")\n",
    "filenum = input(\"Enter a file number: \")\n",
    "file = filenum + '.txt'\n",
    "\n",
    "if (not os.path.exists(file)):\n",
    "    print(\"File doesn't exist!\")\n",
    "else:\n",
    "    if (os.path.isfile(file)):\n",
    "        os.remove(file)\n",
    "        print(file, \" successfully removed!\")\n",
    "    else:\n",
    "        print(file, \" is a directory!\")\n",
    "print(\"current files/directories are: \\n\", os.listdir())"
   ]
  },
  {
   "cell_type": "markdown",
   "metadata": {},
   "source": [
    "---\n",
    "<font size=\"6\" color=\"#00A0B2\"  face=\"verdana\"> <B>Concepts</B></font>  \n",
    "\n",
    "## Handling File Exceptions\n",
    "\n",
    "[![view video](https://iajupyterprodblobs.blob.core.windows.net/imagecontainer/common/play_video.png)](https://www.youtube.com/watch?v=E_e8PbgSqYg)\n",
    "\n",
    "In the previous example, you anticipated some errors and tried to avoid them by testing that a path exists and whether it is to a file or directory. However, you still assumed the results of these tests are static and won't change while your program is running. This assumption might lead to errors again. For example, say you test for the existence of a file and determine that the file exists at the given path, and right after that another program moves the file; if your program attempts to remove the file, it will raise a `FileNotFoundError` because the file no longer exists in that location. Of course, this is considered an unhandled exception and your program will stop executing and display the error message as before.\n",
    "\n",
    "Python's philosophy in this case is to deal with these errors as exceptions and handle them using the techniques you saw in a previous lesson. This way, you can also deal with unexpected exceptions."
   ]
  },
  {
   "cell_type": "markdown",
   "metadata": {},
   "source": [
    "---\n",
    "<font size=\"6\" color=\"#00A0B2\"  face=\"verdana\"> <B>Examples</B></font>\n",
    "\n",
    "In these examples we use exception handling to make sure that a file exists and that it is a file."
   ]
  },
  {
   "cell_type": "code",
   "execution_count": 25,
   "metadata": {},
   "outputs": [
    {
     "name": "stdout",
     "output_type": "stream",
     "text": [
      "Cannot find file:  [WinError 3] The system cannot find the path specified: 'parent_dir/fictitious_file.txt'\n"
     ]
    }
   ],
   "source": [
    "import os.path\n",
    "\n",
    "file_path = \"parent_dir/fictitious_file.txt\"\n",
    "\n",
    "# Remove a file\n",
    "\n",
    "try:\n",
    "    os.remove(file_path)\n",
    "except FileNotFoundError as exception_object:\n",
    "    print(\"Cannot find file: \", exception_object)\n",
    "except PermissionError as exception_object:\n",
    "    print(\"Cannot delete a directory: \", exception_object)\n",
    "except Exception as exception_object:\n",
    "    print(\"Unexpected exception: \", exception_object)"
   ]
  },
  {
   "cell_type": "code",
   "execution_count": 26,
   "metadata": {},
   "outputs": [
    {
     "name": "stdout",
     "output_type": "stream",
     "text": [
      "Cannot find file:  [WinError 2] The system cannot find the file specified: 'parent_dir'\n"
     ]
    }
   ],
   "source": [
    "import os.path\n",
    "\n",
    "file_path = \"parent_dir\"\n",
    "\n",
    "# Remove a file\n",
    "\n",
    "try:\n",
    "    os.remove(file_path)\n",
    "except FileNotFoundError as exception_object:\n",
    "    print(\"Cannot find file: \", exception_object)\n",
    "except PermissionError as exception_object:\n",
    "    print(\"Cannot delete a directory: \", exception_object)\n",
    "except Exception as exception_object:\n",
    "    print(\"Unexpected exception: \", exception_object)"
   ]
  },
  {
   "cell_type": "markdown",
   "metadata": {},
   "source": [
    "---\n",
    "<font size=\"6\" color=\"#B24C00\"  face=\"verdana\"> <B>Task 3</B></font>\n",
    "\n",
    "## Handling File Exceptions\n"
   ]
  },
  {
   "cell_type": "code",
   "execution_count": 29,
   "metadata": {},
   "outputs": [
    {
     "name": "stdout",
     "output_type": "stream",
     "text": [
      "Enter a file number: 15\n",
      "Current listing:\n",
      " ['11.txt', '17.txt', '19.txt', '21.txt', '23.txt', '25.txt', '27.txt', '29.txt', '31.txt', '33.txt', '35.txt', '37.txt', '39.txt', '41.txt', '43.txt', '45.txt', '47.txt', '49.txt', '51.txt', '53.txt', '55.txt', '57.txt', '59.txt', '61.txt', '63.txt', '65.txt', '67.txt', '69.txt', '71.txt', '73.txt', '75.txt', '77.txt', '79.txt', '81.txt', '83.txt', '85.txt', '87.txt', '89.txt', '91.txt', '93.txt', '95.txt', '97.txt', '99.txt']\n"
     ]
    }
   ],
   "source": [
    "# [ ] Write a program to ask the user for a file number, \n",
    "# then delete the file if it exists or display an appropriate error message if it does not.\n",
    "# Use file exception handling instead of file existence tests.\n",
    "# Make sure to run the environment setup code before running your own program.\n",
    "\n",
    "# Test your program with the following:\n",
    "# Case 1: When the user inputs 84, the program should delete the file 84.txt\n",
    "# Case 2: When the user inputs 84 (again), the program should print a File Not Found error message\n",
    "# Case 3: When the user inputs 5, the program should delete the file 5.txt\n",
    "\n",
    "import os\n",
    "\n",
    "if ('files_exercises' not in os.getcwd()):\n",
    "    print(\"STOP!!!! Run the environment setup code!\")\n",
    "    \n",
    "filenum = input(\"Enter a file number: \")\n",
    "file = filenum + '.txt'\n",
    "\n",
    "try:\n",
    "    os.remove(file)\n",
    "except FileNotFoundError as ee:\n",
    "    print(\"File not found:\", ee)\n",
    "except PermissionError as ee:\n",
    "    print(\"Not permitted to delete:\", ee)\n",
    "    \n",
    "print(\"Current listing:\\n\", os.listdir())"
   ]
  },
  {
   "cell_type": "markdown",
   "metadata": {},
   "source": [
    "---\n",
    "<font size=\"6\" color=\"#00A0B2\"  face=\"verdana\"> <B>Concepts</B></font>  \n",
    "\n",
    "\n",
    "## `with` Statements\n",
    "\n",
    "\n",
    "[![view video](https://iajupyterprodblobs.blob.core.windows.net/imagecontainer/common/play_video.png)](https://www.youtube.com/watch?v=r0Cw5dyrr_Y)\n",
    "\n",
    "After interacting with a file in Python, it is very important to close the file to ensure that all output is written properly and the resources are freed. Sometimes an exception is raised before reaching the `close()` statement, and the file is kept open. This issue can be resolved by placing the `close()` statement inside a `finally` clause. However, because the process of opening and closing a file is very common, Python provides a succinct `with` statement that performs the same task. The syntax of the `with` statement is:\n",
    "\n",
    "```python\n",
    "with open(FILE_NAME, MODE) as VARIABLE:\n",
    "    code block\n",
    "```\n"
   ]
  },
  {
   "cell_type": "markdown",
   "metadata": {},
   "source": [
    "---\n",
    "<font size=\"6\" color=\"#00A0B2\"  face=\"verdana\"> <B>Examples</B></font>\n",
    "\n",
    "### Without a `with` statement\n",
    "In this example, you see that the file is still open after the `except` statement because `file.close()` is never reached."
   ]
  },
  {
   "cell_type": "code",
   "execution_count": 30,
   "metadata": {},
   "outputs": [
    {
     "name": "stdout",
     "output_type": "stream",
     "text": [
      "Unexpected exception: [Errno 2] No such file or directory: 'parent_dir/text_file.txt'\n"
     ]
    },
    {
     "ename": "AttributeError",
     "evalue": "'str' object has no attribute 'closed'",
     "output_type": "error",
     "traceback": [
      "\u001b[1;31m---------------------------------------------------------------------------\u001b[0m",
      "\u001b[1;31mAttributeError\u001b[0m                            Traceback (most recent call last)",
      "\u001b[1;32m<ipython-input-30-1418df4c7583>\u001b[0m in \u001b[0;36m<module>\u001b[1;34m()\u001b[0m\n\u001b[0;32m      8\u001b[0m     \u001b[0mprint\u001b[0m\u001b[1;33m(\u001b[0m\u001b[1;34m\"Unexpected exception:\"\u001b[0m\u001b[1;33m,\u001b[0m \u001b[0mexception_object\u001b[0m\u001b[1;33m)\u001b[0m\u001b[1;33m\u001b[0m\u001b[0m\n\u001b[0;32m      9\u001b[0m \u001b[1;33m\u001b[0m\u001b[0m\n\u001b[1;32m---> 10\u001b[1;33m \u001b[0mprint\u001b[0m\u001b[1;33m(\u001b[0m\u001b[1;34m\"File is closed?\"\u001b[0m\u001b[1;33m,\u001b[0m \u001b[0mfile\u001b[0m\u001b[1;33m.\u001b[0m\u001b[0mclosed\u001b[0m\u001b[1;33m)\u001b[0m\u001b[1;33m\u001b[0m\u001b[0m\n\u001b[0m",
      "\u001b[1;31mAttributeError\u001b[0m: 'str' object has no attribute 'closed'"
     ]
    }
   ],
   "source": [
    "file_path = \"parent_dir/text_file.txt\"\n",
    "\n",
    "try:\n",
    "    file = open(file_path, 'r')\n",
    "    x = int(file.readline()) # Raise an exception if lines are not numeric\n",
    "    file.close() # Might never be reached if file.write raised an error\n",
    "except Exception as exception_object:\n",
    "    print(\"Unexpected exception:\", exception_object)\n",
    "\n",
    "print(\"File is closed?\", file.closed)"
   ]
  },
  {
   "cell_type": "markdown",
   "metadata": {},
   "source": [
    "### Using a `finally` statement\n",
    "The `finally` clause will close the file whether an exception was raised or not."
   ]
  },
  {
   "cell_type": "code",
   "execution_count": 31,
   "metadata": {},
   "outputs": [
    {
     "name": "stdout",
     "output_type": "stream",
     "text": [
      "Unexpected exception: [Errno 2] No such file or directory: 'parent_dir/text_file.txt'\n"
     ]
    },
    {
     "ename": "AttributeError",
     "evalue": "'str' object has no attribute 'close'",
     "output_type": "error",
     "traceback": [
      "\u001b[1;31m---------------------------------------------------------------------------\u001b[0m",
      "\u001b[1;31mAttributeError\u001b[0m                            Traceback (most recent call last)",
      "\u001b[1;32m<ipython-input-31-4e3ac196de14>\u001b[0m in \u001b[0;36m<module>\u001b[1;34m()\u001b[0m\n\u001b[0;32m      7\u001b[0m     \u001b[0mprint\u001b[0m\u001b[1;33m(\u001b[0m\u001b[1;34m\"Unexpected exception:\"\u001b[0m\u001b[1;33m,\u001b[0m \u001b[0mexception_object\u001b[0m\u001b[1;33m)\u001b[0m\u001b[1;33m\u001b[0m\u001b[0m\n\u001b[0;32m      8\u001b[0m \u001b[1;32mfinally\u001b[0m\u001b[1;33m:\u001b[0m\u001b[1;33m\u001b[0m\u001b[0m\n\u001b[1;32m----> 9\u001b[1;33m     \u001b[0mfile\u001b[0m\u001b[1;33m.\u001b[0m\u001b[0mclose\u001b[0m\u001b[1;33m(\u001b[0m\u001b[1;33m)\u001b[0m \u001b[1;31m# will be executed whether an exception was raised or not\u001b[0m\u001b[1;33m\u001b[0m\u001b[0m\n\u001b[0m\u001b[0;32m     10\u001b[0m \u001b[1;33m\u001b[0m\u001b[0m\n\u001b[0;32m     11\u001b[0m \u001b[0mprint\u001b[0m\u001b[1;33m(\u001b[0m\u001b[1;34m\"File is closed?\"\u001b[0m\u001b[1;33m,\u001b[0m \u001b[0mfile\u001b[0m\u001b[1;33m.\u001b[0m\u001b[0mclosed\u001b[0m\u001b[1;33m)\u001b[0m\u001b[1;33m\u001b[0m\u001b[0m\n",
      "\u001b[1;31mAttributeError\u001b[0m: 'str' object has no attribute 'close'"
     ]
    }
   ],
   "source": [
    "file_path = \"parent_dir/text_file.txt\"\n",
    "\n",
    "try:\n",
    "    file = open(file_path, 'r')\n",
    "    x = int(file.readline()) #raise an exception if lines are not numeric\n",
    "except Exception as exception_object:\n",
    "    print(\"Unexpected exception:\", exception_object)\n",
    "finally:\n",
    "    file.close() # will be executed whether an exception was raised or not\n",
    "\n",
    "print(\"File is closed?\", file.closed)"
   ]
  },
  {
   "cell_type": "markdown",
   "metadata": {},
   "source": [
    "### Using a `with` statement\n",
    "You need not explicitly close the file; the `with` statement will do it for you."
   ]
  },
  {
   "cell_type": "code",
   "execution_count": 32,
   "metadata": {},
   "outputs": [
    {
     "name": "stdout",
     "output_type": "stream",
     "text": [
      "Unexpected exception [Errno 2] No such file or directory: 'parent_dir/text_file.txt'\n"
     ]
    },
    {
     "ename": "AttributeError",
     "evalue": "'str' object has no attribute 'closed'",
     "output_type": "error",
     "traceback": [
      "\u001b[1;31m---------------------------------------------------------------------------\u001b[0m",
      "\u001b[1;31mAttributeError\u001b[0m                            Traceback (most recent call last)",
      "\u001b[1;32m<ipython-input-32-98b336ab07e4>\u001b[0m in \u001b[0;36m<module>\u001b[1;34m()\u001b[0m\n\u001b[0;32m      7\u001b[0m     \u001b[0mprint\u001b[0m\u001b[1;33m(\u001b[0m\u001b[1;34m\"Unexpected exception\"\u001b[0m\u001b[1;33m,\u001b[0m \u001b[0mexception_object\u001b[0m\u001b[1;33m)\u001b[0m\u001b[1;33m\u001b[0m\u001b[0m\n\u001b[0;32m      8\u001b[0m \u001b[1;33m\u001b[0m\u001b[0m\n\u001b[1;32m----> 9\u001b[1;33m \u001b[0mprint\u001b[0m\u001b[1;33m(\u001b[0m\u001b[1;34m\"File is closed?\"\u001b[0m\u001b[1;33m,\u001b[0m \u001b[0mfile\u001b[0m\u001b[1;33m.\u001b[0m\u001b[0mclosed\u001b[0m\u001b[1;33m)\u001b[0m\u001b[1;33m\u001b[0m\u001b[0m\n\u001b[0m",
      "\u001b[1;31mAttributeError\u001b[0m: 'str' object has no attribute 'closed'"
     ]
    }
   ],
   "source": [
    "file_path = \"parent_dir/text_file.txt\"\n",
    "\n",
    "try:\n",
    "    with open(file_path, 'r') as file:\n",
    "        x = int(file.readline()) #raise an exception if lines are not numeric\n",
    "except Exception as exception_object:\n",
    "    print(\"Unexpected exception\", exception_object)\n",
    "\n",
    "print(\"File is closed?\", file.closed)"
   ]
  },
  {
   "cell_type": "markdown",
   "metadata": {},
   "source": [
    "---\n",
    "<font size=\"6\" color=\"#B24C00\"  face=\"verdana\"> <B>Task 4</B></font>\n",
    "\n",
    "## `with` Statements"
   ]
  },
  {
   "cell_type": "code",
   "execution_count": 40,
   "metadata": {},
   "outputs": [
    {
     "name": "stdout",
     "output_type": "stream",
     "text": [
      "['0.txt', '1.txt', '10.txt', '11.txt', '12.txt', '13.txt', '14.txt', '15.txt', '16.txt', '17.txt', '18.txt', '19.txt', '2.txt', '20.txt', '21.txt', '22.txt', '23.txt', '24.txt', '25.txt', '26.txt', '27.txt', '28.txt', '29.txt', '3.txt', '30.txt', '31.txt', '32.txt', '33.txt', '34.txt', '35.txt', '36.txt', '37.txt', '38.txt', '39.txt', '4.txt', '40.txt', '41.txt', '42.txt', '43.txt', '44.txt', '45.txt', '46.txt', '47.txt', '48.txt', '49.txt', '5.txt', '50.txt', '51.txt', '52.txt', '53.txt', '54.txt', '55.txt', '56.txt', '57.txt', '58.txt', '59.txt', '6.txt', '60.txt', '61.txt', '62.txt', '63.txt', '64.txt', '65.txt', '66.txt', '67.txt', '68.txt', '69.txt', '7.txt', '70.txt', '71.txt', '72.txt', '73.txt', '74.txt', '75.txt', '76.txt', '77.txt', '78.txt', '79.txt', '8.txt', '80.txt', '81.txt', '82.txt', '83.txt', '84.txt', '85.txt', '86.txt', '87.txt', '88.txt', '89.txt', '9.txt', '90.txt', '91.txt', '92.txt', '93.txt', '94.txt', '95.txt', '96.txt', '97.txt', '98.txt', '99.txt', 'dir_1', 'dir_2', 'dir_3', 'dir_4', 'dir_5']\n",
      "file 0.txt: \n",
      "file 1.txt: 7894\n",
      "file 2.txt: 1087\n",
      "file 3.txt: 2306\n",
      "file 4.txt: 7372\n",
      "file 5.txt: 3462\n",
      "file 6.txt: 1856\n",
      "file 7.txt: 1517\n",
      "file 8.txt: 3389\n",
      "file 9.txt: 9748\n",
      "file 10.txt: 1591\n",
      "file 11.txt: 9749\n",
      "file 12.txt: 3313\n",
      "file 13.txt: 6148\n",
      "file 14.txt: 3691\n",
      "file 15.txt: 5058\n",
      "file 16.txt: 3570\n",
      "file 17.txt: 4499\n",
      "file 18.txt: 3345\n",
      "file 19.txt: 5229\n",
      "file 20.txt: 2769\n",
      "file 21.txt: 9287\n",
      "file 22.txt: 2317\n",
      "file 23.txt: 3747\n",
      "file 24.txt: 7888\n",
      "file 25.txt: 2531\n",
      "file 26.txt: 6845\n",
      "file 27.txt: 2177\n",
      "file 28.txt: 2580\n",
      "file 29.txt: 9907\n",
      "file 30.txt: 2300\n",
      "file 31.txt: 2774\n",
      "file 32.txt: 2287\n",
      "file 33.txt: 1159\n",
      "file 34.txt: 5908\n",
      "file 35.txt: 9528\n",
      "file 36.txt: 5653\n",
      "file 37.txt: 4769\n",
      "file 38.txt: 3245\n",
      "file 39.txt: 8295\n",
      "file 40.txt: 3909\n",
      "file 41.txt: 4631\n",
      "file 42.txt: 9805\n",
      "file 43.txt: 1163\n",
      "file 44.txt: 9873\n",
      "file 45.txt: 1358\n",
      "file 46.txt: 3762\n",
      "file 47.txt: 5948\n",
      "file 48.txt: 6433\n",
      "file 49.txt: 4626\n",
      "file 50.txt: 9083\n",
      "file 51.txt: 5436\n",
      "file 52.txt: 1053\n",
      "file 53.txt: 9449\n",
      "file 54.txt: 1587\n",
      "file 55.txt: 2853\n",
      "file 56.txt: 2344\n",
      "file 57.txt: 9496\n",
      "file 58.txt: 3204\n",
      "file 59.txt: 3678\n",
      "file 60.txt: 7957\n",
      "file 61.txt: 4112\n",
      "file 62.txt: 1441\n",
      "file 63.txt: 3944\n",
      "file 64.txt: 7415\n",
      "file 65.txt: 1248\n",
      "file 66.txt: 6028\n",
      "file 67.txt: 9330\n",
      "file 68.txt: 9459\n",
      "file 69.txt: 5154\n",
      "file 70.txt: 9358\n",
      "file 71.txt: 6153\n",
      "file 72.txt: 3353\n",
      "file 73.txt: 6279\n",
      "file 74.txt: 3932\n",
      "file 75.txt: 1193\n",
      "file 76.txt: 8426\n",
      "file 77.txt: 2352\n",
      "file 78.txt: 9923\n",
      "file 79.txt: 7865\n",
      "file 80.txt: 6921\n",
      "file 81.txt: 2913\n",
      "file 82.txt: 1121\n",
      "file 83.txt: 2542\n",
      "file 84.txt: 4736\n",
      "file 85.txt: 3447\n",
      "file 86.txt: 3178\n",
      "file 87.txt: 9846\n",
      "file 88.txt: 1525\n",
      "file 89.txt: 5657\n",
      "file 90.txt: 1574\n",
      "file 91.txt: 8967\n",
      "file 92.txt: 7361\n",
      "file 93.txt: 4912\n",
      "file 94.txt: 5433\n",
      "file 95.txt: 8301\n",
      "file 96.txt: 1095\n",
      "file 97.txt: 7586\n",
      "file 98.txt: 9524\n",
      "file 99.txt: 5396\n"
     ]
    }
   ],
   "source": [
    "# [ ] Write a program to print the first line of every file inside `files_exercises`\n",
    "# Use a `with` statement to open (and close) every file\n",
    "# Make sure the to run the environment setup code before running your own program.\n",
    "\n",
    "import os\n",
    "\n",
    "if ('files_exercises' not in os.getcwd()):\n",
    "    print(\"STOP!!!! Run the environment setup code!\")\n",
    "\n",
    "print(os.listdir())\n",
    "\n",
    "\n",
    "for i in range(100):\n",
    "    file = str(i) +'.txt'\n",
    "    with open(file, 'r') as content:\n",
    "        print(\"file {0:d}.txt: {1:s}\".format(i, content.read()))\n"
   ]
  },
  {
   "cell_type": "code",
   "execution_count": null,
   "metadata": {
    "collapsed": true
   },
   "outputs": [],
   "source": []
  }
 ],
 "metadata": {
  "kernelspec": {
   "display_name": "Python 3",
   "language": "python",
   "name": "python3"
  },
  "language_info": {
   "codemirror_mode": {
    "name": "ipython",
    "version": 3
   },
   "file_extension": ".py",
   "mimetype": "text/x-python",
   "name": "python",
   "nbconvert_exporter": "python",
   "pygments_lexer": "ipython3",
   "version": "3.6.3"
  }
 },
 "nbformat": 4,
 "nbformat_minor": 2
}
